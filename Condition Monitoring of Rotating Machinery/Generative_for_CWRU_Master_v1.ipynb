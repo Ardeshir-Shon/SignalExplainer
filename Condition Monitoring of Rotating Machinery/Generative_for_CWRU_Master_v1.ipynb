{
  "nbformat": 4,
  "nbformat_minor": 0,
  "metadata": {
    "colab": {
      "name": "Generative_for_CWRU_Master_v1.ipynb",
      "provenance": [],
      "collapsed_sections": []
    },
    "kernelspec": {
      "name": "python3",
      "display_name": "Python 3"
    },
    "language_info": {
      "name": "python"
    }
  },
  "cells": [
    {
      "cell_type": "markdown",
      "metadata": {
        "id": "OWk8XqmUftxp"
      },
      "source": [
        "# Initialization\n",
        "\n",
        "I imported pytorch here ... if you're more familiar with TF/Keras/Theano/etc, let's import those libraries"
      ]
    },
    {
      "cell_type": "code",
      "metadata": {
        "id": "u5w64JA7fuWb"
      },
      "source": [
        "import matplotlib.pyplot as plt\n",
        "import numpy as np\n",
        "import scipy\n",
        "import scipy.io as sio\n",
        "from scipy.stats import kurtosis\n",
        "from scipy import signal\n",
        "from sklearn.model_selection import train_test_split\n",
        "from  sklearn.utils import shuffle\n",
        "from os import path, mkdir\n",
        "import torch\n",
        "import torch.nn as nn\n",
        "import torchvision\n",
        "import torchvision.transforms as transforms\n",
        "import torch.utils.data as utils\n",
        "from sklearn.metrics import confusion_matrix, f1_score, precision_score, recall_score, accuracy_score\n",
        "import itertools\n",
        "import time\n",
        "from mpl_toolkits.mplot3d import Axes3D\n",
        "from matplotlib.collections import PolyCollection\n",
        "from matplotlib import colors as mcolors\n",
        "import urllib.request"
      ],
      "execution_count": null,
      "outputs": []
    },
    {
      "cell_type": "markdown",
      "metadata": {
        "id": "ccY_Ce9IfoI7"
      },
      "source": [
        "# Downloading the Data\n",
        "In this part we download the raw data from the online repository."
      ]
    },
    {
      "cell_type": "code",
      "metadata": {
        "colab": {
          "base_uri": "https://localhost:8080/"
        },
        "id": "IrSPDzjDhmgA",
        "outputId": "c6ed5da7-f860-4b9e-e247-aec01af12158"
      },
      "source": [
        "def make_dir(dir):\n",
        "  if not path.exists(dir):\n",
        "      mkdir(dir)\n",
        "      print(dir + ' is created!')\n",
        "  else: print(dir + ' exists!')\n",
        "  return \n",
        "\n",
        "data_dir = '/content/data/'\n",
        "make_dir(data_dir)\n"
      ],
      "execution_count": null,
      "outputs": [
        {
          "output_type": "stream",
          "name": "stdout",
          "text": [
            "/content/data/ is created!\n"
          ]
        }
      ]
    },
    {
      "cell_type": "code",
      "metadata": {
        "colab": {
          "base_uri": "https://localhost:8080/"
        },
        "id": "is-I_3COfnQX",
        "outputId": "5be6304a-50da-4700-c0fd-ccb4e24c97cb"
      },
      "source": [
        "data_codes = {'97': {'class':0, 'rpm':1797}, '98':{'class':0, 'rpm':1772}, '99':{'class':0, 'rpm':1750}, '100': {'class':0, 'rpm':1730},\n",
        "              '105':{'class':1, 'rpm':1797}, '106':{'class':1, 'rpm':1772}, '107':{'class':1, 'rpm':1750}, '108':{'class':1, 'rpm':1730},\n",
        "              '209':{'class':1, 'rpm':1797}, '210':{'class':1, 'rpm':1772}, '211':{'class':1, 'rpm':1750}, '212':{'class':1, 'rpm':1730},\n",
        "              '118':{'class':2, 'rpm':1797}, '120':{'class':2, 'rpm':1750}, '121':{'class':2, 'rpm':1730},\n",
        "              '130':{'class':3, 'rpm':1797}, '131':{'class':3, 'rpm':1772}, '132':{'class':3, 'rpm':1750},\n",
        "              '156':{'class':5, 'rpm':1797}, '158':{'class':5, 'rpm':1772}, '159':{'class':5, 'rpm':1750}, '160':{'class':5, 'rpm':1730},\n",
        "              '198':{'class':3, 'rpm':1772}, '199':{'class':3, 'rpm':1750}, \n",
        "              '144':{'class':4, 'rpm':1797}, '145':{'class':4, 'rpm':1772}, '146':{'class':4, 'rpm':1750},} # keys: data codes in CWRU website  [IT'S ONLY SOME OF THE WHOLE DATA]\n",
        "\n",
        "dir = []\n",
        "\n",
        "for k,v in data_codes.items():\n",
        "  print('k =', k, ' | ', v)\n",
        "  if path.isfile(data_dir + k + '.mat'): pass  # if it is already downloaded\n",
        "  else:\n",
        "    urllib.request.urlretrieve(f\"http://engineering.case.edu/sites/default/files/{k}.mat\",\n",
        "                               data_dir + k + '.mat')\n",
        "  \n",
        "  data = scipy.io.loadmat(data_dir + k + '.mat')\n",
        "  if len(k) == 2: k_3 = '0'+k\n",
        "  elif len(k) == 3: k_3 = k\n",
        "  de = f'X{k_3}_DE_time'\n",
        "  fe = f'X{k_3}_FE_time'\n",
        "  dir.append([data_dir + k + '.mat' ,de, fe, v])\n",
        "print('=== download complete! ===')"
      ],
      "execution_count": null,
      "outputs": [
        {
          "output_type": "stream",
          "name": "stdout",
          "text": [
            "k = 97  |  {'class': 0, 'rpm': 1797}\n",
            "k = 98  |  {'class': 0, 'rpm': 1772}\n",
            "k = 99  |  {'class': 0, 'rpm': 1750}\n",
            "k = 100  |  {'class': 0, 'rpm': 1730}\n",
            "k = 105  |  {'class': 1, 'rpm': 1797}\n",
            "k = 106  |  {'class': 1, 'rpm': 1772}\n",
            "k = 107  |  {'class': 1, 'rpm': 1750}\n",
            "k = 108  |  {'class': 1, 'rpm': 1730}\n",
            "k = 209  |  {'class': 1, 'rpm': 1797}\n",
            "k = 210  |  {'class': 1, 'rpm': 1772}\n",
            "k = 211  |  {'class': 1, 'rpm': 1750}\n",
            "k = 212  |  {'class': 1, 'rpm': 1730}\n",
            "k = 118  |  {'class': 2, 'rpm': 1797}\n",
            "k = 120  |  {'class': 2, 'rpm': 1750}\n",
            "k = 121  |  {'class': 2, 'rpm': 1730}\n",
            "k = 130  |  {'class': 3, 'rpm': 1797}\n",
            "k = 131  |  {'class': 3, 'rpm': 1772}\n",
            "k = 132  |  {'class': 3, 'rpm': 1750}\n",
            "k = 156  |  {'class': 5, 'rpm': 1797}\n",
            "k = 158  |  {'class': 5, 'rpm': 1772}\n",
            "k = 159  |  {'class': 5, 'rpm': 1750}\n",
            "k = 160  |  {'class': 5, 'rpm': 1730}\n",
            "k = 198  |  {'class': 3, 'rpm': 1772}\n",
            "k = 199  |  {'class': 3, 'rpm': 1750}\n",
            "k = 144  |  {'class': 4, 'rpm': 1797}\n",
            "k = 145  |  {'class': 4, 'rpm': 1772}\n",
            "k = 146  |  {'class': 4, 'rpm': 1750}\n",
            "=== download complete! ===\n"
          ]
        }
      ]
    },
    {
      "cell_type": "markdown",
      "metadata": {
        "id": "ejHWCKJHr0Ks"
      },
      "source": [
        "# Dataset generating\n",
        "In this section we have to randomly collect samples and make a dataset which then can be split to \"train\", \"test\" and \"val\". # THE test SET SHOULDN'T HAVE ANY OVERLAP WITH THE train/val SETS."
      ]
    },
    {
      "cell_type": "code",
      "metadata": {
        "id": "IamkJUWxstow"
      },
      "source": [
        "length = 400  # the window (number of timestamps in each sample)\n",
        "snr = False  # Signal to Noise Ratio (a number - if \"False\": no noise should be added)\n",
        "test_size = 0.2  # ratio of test set to the whole (between 0 and 1)\n",
        "val_size = 0.1  # ratio of val set to the whole (between 0 and 1)\n",
        "file_name = f'cwru{length}snr{int(snr)}.npz'"
      ],
      "execution_count": null,
      "outputs": []
    },
    {
      "cell_type": "code",
      "metadata": {
        "id": "i3c7nscnsbrT"
      },
      "source": [
        "# <<Maryam>> provides a script that generates the dataset --- please add adequate comments at each line\n",
        "# use this tool which is previously imported: train_test_split -- you can use it twice to make train/test/val sets... I'm adding an example below:\n",
        "\"\"\"\n",
        "X_train, X_test, y_train, y_test \n",
        "    = train_test_split(X, y, test_size=test_size, random_state=436)\n",
        "\n",
        " X_train, X_val, y_train, y_val \n",
        "    = train_test_split(X_train, y_train, test_size=val_size/(1-test_size), random_state=537) # .1 x (1-.2) = .125 of the train set = .1 of the whole\n",
        "\"\"\"\n"
      ],
      "execution_count": null,
      "outputs": []
    },
    {
      "cell_type": "markdown",
      "metadata": {
        "id": "IpJbyfuZxybc"
      },
      "source": [
        "#Data Preprocessing\n",
        "\n",
        "Feature extraction, Signal processing, dimension reduction (possibly!), denoising (if needed)  -- These features may be used in different architectures provided in the next section."
      ]
    },
    {
      "cell_type": "markdown",
      "metadata": {
        "id": "9d31pgJbXnMV"
      },
      "source": [
        "this is a sample picker to just have a sample to see if the preprocessing techniques work."
      ]
    },
    {
      "cell_type": "code",
      "metadata": {
        "colab": {
          "base_uri": "https://localhost:8080/",
          "height": 256
        },
        "id": "pIFYBj84X2FA",
        "outputId": "1ac21e62-9bef-4c67-ac2d-8377f196e09a"
      },
      "source": [
        "k = '211'\n",
        "data = scipy.io.loadmat(data_dir + k + '.mat')\n",
        "if len(k) == 2: k_3 = '0'+k\n",
        "elif len(k) == 3: k_3 = k\n",
        "de = f'X{k_3}_DE_time'\n",
        "fe = f'X{k_3}_FE_time'\n",
        "\n",
        "length = 500\n",
        "\n",
        "t = np.linspace(start=0, stop=length, num=length)\n",
        "start = np.random.randint(low=0, high=50000)\n",
        "signal_de = data[de][start:start+len(t)]\n",
        "signal_fe = data[fe][start:start+len(t)]\n",
        "\n",
        "Signal, name = signal_fe, 'Fan-End Signal'\n",
        "c='midnightblue'\n",
        "lw=0.9\n",
        "print(Signal.shape)\n",
        "plt.figure(1, dpi=150)\n",
        "plt.subplot(4,1,1)\n",
        "plt.plot(t, Signal, c=c, lw=lw)\n",
        "plt.title(name)\n",
        "plt.ylabel('Raw Signal')\n",
        "plt.xlabel('Timestamp')\n",
        "plt.show()"
      ],
      "execution_count": null,
      "outputs": [
        {
          "output_type": "stream",
          "name": "stdout",
          "text": [
            "(500, 1)\n"
          ]
        },
        {
          "output_type": "display_data",
          "data": {
            "image/png": "[encoded data removed]",
            "text/plain": [
              "<Figure size 900x600 with 1 Axes>"
            ]
          },
          "metadata": {
            "needs_background": "light"
          }
        }
      ]
    },
    {
      "cell_type": "markdown",
      "metadata": {
        "id": "MikZqLvFHpPX"
      },
      "source": [
        "## EMD (classes and functions)"
      ]
    },
    {
      "cell_type": "code",
      "metadata": {
        "id": "LlYtTE-vxvap"
      },
      "source": [
        "# <<Seyi>> provides some signal processing feature extraction techniques here"
      ],
      "execution_count": null,
      "outputs": []
    },
    {
      "cell_type": "code",
      "metadata": {
        "id": "uszQpS4mHoWZ"
      },
      "source": [
        "# EEMD:\n"
      ],
      "execution_count": null,
      "outputs": []
    },
    {
      "cell_type": "code",
      "metadata": {
        "id": "41BuO_c6yd40"
      },
      "source": [
        "# <<Mass>> provides some visualizations"
      ],
      "execution_count": null,
      "outputs": []
    },
    {
      "cell_type": "markdown",
      "metadata": {
        "id": "mi_1z715yyG0"
      },
      "source": [
        "# DL Architectures\n",
        "\n",
        "We develop some state-of-the-art as well as classic architectures here to compare their performance on the dataset."
      ]
    },
    {
      "cell_type": "markdown",
      "metadata": {
        "id": "T97_7l-Qz-N5"
      },
      "source": [
        "## Some architectures from the literature"
      ]
    },
    {
      "cell_type": "code",
      "metadata": {
        "id": "x4uyqzaAzZUW"
      },
      "source": [
        "# <<Ardeshir>> <<Todd>> <<Maryam>> <<Mass>> provide the architectures here"
      ],
      "execution_count": null,
      "outputs": []
    },
    {
      "cell_type": "markdown",
      "metadata": {
        "id": "mA9wBQ67zlgG"
      },
      "source": [
        "## The proposed architectures (ours)"
      ]
    },
    {
      "cell_type": "code",
      "metadata": {
        "id": "KmGjIZCrzzwu"
      },
      "source": [
        "# Let's be innovative enough!"
      ],
      "execution_count": null,
      "outputs": []
    },
    {
      "cell_type": "markdown",
      "metadata": {
        "id": "l0smZ22Pz57v"
      },
      "source": [
        "#Model training\n",
        "\n",
        "Here based on different RPMs, SNRs and Imbalanced severity, we have different datasets; We need to take an architecture and train it on a given dataset.\n",
        "Inputs: [DL model] [dataset] [dataset condition] [hyperparameters]\n",
        "\n",
        "Don't forget to save the trained model somewhere on the google drive (plus its runtime with GPU/CPU info and parameters) -- we don't want to run one model over and over."
      ]
    },
    {
      "cell_type": "code",
      "metadata": {
        "id": "Y8_4f4O90hLO"
      },
      "source": [
        "# a script that takes an architecture and trains it on a given dataset (the conditions can be different based on the SNR or imbalanced situation)"
      ],
      "execution_count": null,
      "outputs": []
    },
    {
      "cell_type": "markdown",
      "metadata": {
        "id": "BYA98JLXT6BY"
      },
      "source": [
        "## Rolling Element Bearing Fault Detection Using Deep Learning\n",
        "By: Alex Shenfield and Martin Howarth \n",
        "\n",
        "https://github.com/al3xsh/rolling-element-bearing-fault-detection"
      ]
    },
    {
      "cell_type": "code",
      "metadata": {
        "id": "oVzp-JGUQzIS"
      },
      "source": [
        "!git clone https://github.com/al3xsh/rolling-element-bearing-fault-detection.git"
      ],
      "execution_count": null,
      "outputs": []
    },
    {
      "cell_type": "code",
      "metadata": {
        "id": "FilEoH70bUnz"
      },
      "source": [
        "!rm /content/rolling-element-bearing-fault-detection/keras/rnn-wdcnn/utils\n",
        "!ln -s /content/rolling-element-bearing-fault-detection/keras/utils /content/rolling-element-bearing-fault-detection/keras/rnn-wdcnn/utils\n",
        "!ln -s /content/rolling-element-bearing-fault-detection/utils/data /content/rolling-element-bearing-fault-detection/keras/rnn-wdcnn/utils/data"
      ],
      "execution_count": null,
      "outputs": []
    },
    {
      "cell_type": "code",
      "metadata": {
        "id": "ug7KsdqVQ1Tx"
      },
      "source": [
        "# Requires older versions of tensorflow and keras\n",
        "!pip install keras==2.3.1\n",
        "!pip install tensorflow==2.1\n",
        "# Make sure to restart the runtime after running this cell!"
      ],
      "execution_count": null,
      "outputs": []
    },
    {
      "cell_type": "code",
      "metadata": {
        "id": "AnIMMHCaQ5AS"
      },
      "source": [
        "#Check versions are correct!\n",
        "import tensorflow\n",
        "import keras\n",
        "print('Tensorflow Version:', tensorflow.__version__)\n",
        "print('Keras Version:', keras.__version__)"
      ],
      "execution_count": null,
      "outputs": []
    },
    {
      "cell_type": "code",
      "metadata": {
        "id": "i3pOwBSnQ7ua",
        "colab": {
          "base_uri": "https://localhost:8080/"
        },
        "outputId": "57aaeab9-67d1-4c26-e1ff-4e33b4d63e0b"
      },
      "source": [
        "!python /content/rolling-element-bearing-fault-detection/keras/rnn-wdcnn/train_rnn_wdcnn_loads.py -n_epochs=25 -batch_size=8 -clr_method=triangular2 -base_lr=1e-5 -max_lr=1e-3 -step_size=26367 -rnn_type=lstm -n_cells=128 -kernel_size=256 -recurrent_dropout=0.1 -data_path=../../data/ -source=1 -target=2 -target=3"
      ],
      "execution_count": null,
      "outputs": [
        {
          "output_type": "stream",
          "name": "stdout",
          "text": [
            "Using TensorFlow backend.\n",
            "1633740058.7284913\n",
            "loading data ...\n",
            "Traceback (most recent call last):\n",
            "  File \"/content/rolling-element-bearing-fault-detection/keras/rnn-wdcnn/train_rnn_wdcnn_loads.py\", line 108, in <module>\n",
            "    normalisation=normalisation)\n",
            "  File \"/content/rolling-element-bearing-fault-detection/keras/rnn-wdcnn/utils/data/cwru_data_loader.py\", line 116, in __init__\n",
            "    '{0}hp'.format(l)).iterdir()))\n",
            "  File \"/usr/lib/python3.7/pathlib.py\", line 1107, in iterdir\n",
            "    for name in self._accessor.listdir(self):\n",
            "FileNotFoundError: [Errno 2] No such file or directory: '../../data/48k_normal_baseline/1hp'\n"
          ]
        }
      ]
    },
    {
      "cell_type": "code",
      "metadata": {
        "colab": {
          "base_uri": "https://localhost:8080/"
        },
        "id": "Yqm1rFr4d9IS",
        "outputId": "5f7ba8e7-d4bd-400c-f096-c67e37304a53"
      },
      "source": [
        "!python /content/rolling-element-bearing-fault-detection/keras/rnn-wdcnn/train_rnn_wdcnn_snr.py -n_epochs=25 -batch_size=8 -clr_method=triangular2 -base_lr=1e-5 -max_lr=1e-3 -step_size=26367 -rnn_type=lstm -n_cells=128 -kernel_size=256 -recurrent_dropout=0.1 -data_path=../../data/"
      ],
      "execution_count": null,
      "outputs": [
        {
          "output_type": "stream",
          "name": "stdout",
          "text": [
            "Using TensorFlow backend.\n",
            "1633740075.399262\n",
            "loading data ...\n",
            "Traceback (most recent call last):\n",
            "  File \"/content/rolling-element-bearing-fault-detection/keras/rnn-wdcnn/train_rnn_wdcnn_snr.py\", line 97, in <module>\n",
            "    normalisation=normalisation)\n",
            "  File \"/content/rolling-element-bearing-fault-detection/keras/rnn-wdcnn/utils/data/cwru_data_loader.py\", line 116, in __init__\n",
            "    '{0}hp'.format(l)).iterdir()))\n",
            "  File \"/usr/lib/python3.7/pathlib.py\", line 1107, in iterdir\n",
            "    for name in self._accessor.listdir(self):\n",
            "FileNotFoundError: [Errno 2] No such file or directory: '../../data/48k_normal_baseline/1hp'\n"
          ]
        }
      ]
    },
    {
      "cell_type": "markdown",
      "metadata": {
        "id": "lDAqWy361uAz"
      },
      "source": [
        "# Model testing\n",
        "\n",
        "Obviously we gotta check out the model performance. So, here we go..."
      ]
    },
    {
      "cell_type": "code",
      "metadata": {
        "id": "DKMBwCf615QV"
      },
      "source": [
        "# a script that evaluates the performance of the model on the test set. "
      ],
      "execution_count": null,
      "outputs": []
    },
    {
      "cell_type": "markdown",
      "metadata": {
        "id": "VL8lsO872CH_"
      },
      "source": [
        "# Performance comparison\n",
        "\n",
        "Visualize the performance of each model in different conditions."
      ]
    },
    {
      "cell_type": "code",
      "metadata": {
        "id": "6e6RxeOM2PMd"
      },
      "source": [
        "# <<Mass>> <<Todd>> <<Ardeshir>> <<Maryam>> provide some visualization ideas here"
      ],
      "execution_count": null,
      "outputs": []
    }
  ]
}